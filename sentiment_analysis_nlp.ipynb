{
 "cells": [
  {
   "cell_type": "code",
   "execution_count": 137,
   "id": "4fd0e7ee",
   "metadata": {},
   "outputs": [],
   "source": [
    "#!pip install nltk\n",
    "import numpy as np\n",
    "import pandas as pd\n",
    "import re\n",
    "import nltk\n",
    "from nltk.corpus import stopwords\n",
    "from nltk.tokenize import word_tokenize\n",
    "from tensorflow.keras.preprocessing.text import Tokenizer\n",
    "from tensorflow.keras.preprocessing.sequence import pad_sequences\n",
    "from tensorflow.keras.models import Sequential\n",
    "from tensorflow.keras.layers import Embedding, LSTM, Dense, Dropout\n",
    "from sklearn.model_selection import train_test_split\n",
    "import os\n",
    "import tensorflow as tf\n",
    "from tensorflow import keras\n"
   ]
  },
  {
   "cell_type": "code",
   "execution_count": 138,
   "id": "7c815c75",
   "metadata": {},
   "outputs": [
    {
     "name": "stderr",
     "output_type": "stream",
     "text": [
      "[nltk_data] Downloading package punkt to\n",
      "[nltk_data]     C:\\Users\\ADMIN\\AppData\\Roaming\\nltk_data...\n",
      "[nltk_data]   Package punkt is already up-to-date!\n",
      "[nltk_data] Downloading package stopwords to\n",
      "[nltk_data]     C:\\Users\\ADMIN\\AppData\\Roaming\\nltk_data...\n",
      "[nltk_data]   Package stopwords is already up-to-date!\n",
      "[nltk_data] Downloading package punkt_tab to\n",
      "[nltk_data]     C:\\Users\\ADMIN\\AppData\\Roaming\\nltk_data...\n",
      "[nltk_data]   Package punkt_tab is already up-to-date!\n"
     ]
    }
   ],
   "source": [
    "# Download NLTK data\n",
    "nltk.download('punkt')\n",
    "nltk.download('stopwords')\n",
    "nltk.download('punkt_tab')  # new addition\n",
    "stop_words = set(stopwords.words('english'))\n"
   ]
  },
  {
   "cell_type": "code",
   "execution_count": 139,
   "id": "530351d2",
   "metadata": {},
   "outputs": [],
   "source": [
    "# 1. Parse review_text from file\n",
    "def load_reviews_from_file(filepath, label=None):\n",
    "    with open(filepath, encoding=\"utf-8\") as f:\n",
    "        text = f.read()\n",
    "    # Extract all <review_text>...</review_text> blocks\n",
    "    reviews = re.findall(r\"<review_text>(.*?)</review_text>\", text, re.S)\n",
    "    cleaned_reviews = [clean_text(r) for r in reviews]\n",
    "    labels = [label] * len(cleaned_reviews) if label is not None else None\n",
    "    return cleaned_reviews, labels\n"
   ]
  },
  {
   "cell_type": "code",
   "execution_count": 140,
   "id": "c00c15f0",
   "metadata": {},
   "outputs": [],
   "source": [
    "\n",
    "# 2. Clean text function\n",
    "def clean_text(text):\n",
    "    text = re.sub(r'[^\\w\\s]', '', text.lower())  # remove punctuation, lowercase\n",
    "    tokens = word_tokenize(text)\n",
    "    tokens = [word for word in tokens if word not in stop_words]\n",
    "    return ' '.join(tokens)\n",
    "\n",
    "# Remove outliers (reviews < 5 words or > 500 words)\n",
    "def remove_outliers(reviews, labels):\n",
    "    cleaned_reviews, cleaned_labels = [], []\n",
    "    for review, label in zip(reviews, labels):\n",
    "        word_count = len(review.split())\n",
    "        if 5 <= word_count <= 500:\n",
    "            cleaned_reviews.append(review)\n",
    "            cleaned_labels.append(label)\n",
    "    return cleaned_reviews, cleaned_labels\n"
   ]
  },
  {
   "cell_type": "code",
   "execution_count": 141,
   "id": "56b5de49",
   "metadata": {},
   "outputs": [],
   "source": [
    "# 3. Load all categories\n",
    "categories = [\"books\", \"electronics\", \"dvd\", \"kitchen_&_housewares\"]\n",
    "\n",
    "all_reviews = []\n",
    "all_labels = []\n",
    "\n",
    "for category in categories:\n",
    "    pos_file = os.path.join(category, \"positive.review\")\n",
    "    neg_file = os.path.join(category, \"negative.review\")\n",
    "    unlabeled_file = os.path.join(category, \"unlabeled.review\")\n",
    "\n",
    "    pos_reviews, pos_labels = load_reviews_from_file(pos_file, label=1)\n",
    "    neg_reviews, neg_labels = load_reviews_from_file(neg_file, label=0)\n",
    "\n",
    "    all_reviews.extend(pos_reviews + neg_reviews)\n",
    "    all_labels.extend(pos_labels + neg_labels)"
   ]
  },
  {
   "cell_type": "code",
   "execution_count": 142,
   "id": "8ac81855",
   "metadata": {},
   "outputs": [],
   "source": [
    "# 4. Tokenization and padding\n",
    "import pickle\n",
    "from tensorflow.keras.preprocessing.text import Tokenizer\n",
    "\n",
    "vocab_size = 20000\n",
    "oov_token = \"<OOV>\"\n",
    "\n",
    "\n",
    "tokenizer = Tokenizer(num_words=vocab_size, oov_token=oov_token)\n",
    "tokenizer.fit_on_texts(all_reviews)\n",
    "sequences = tokenizer.texts_to_sequences(all_reviews)\n",
    "\n",
    "# Save tokenizer\n",
    "with open(\"tokenizer.pickle\", \"wb\") as handle:\n",
    "    pickle.dump(tokenizer, handle, protocol=pickle.HIGHEST_PROTOCOL)\n",
    "\n",
    "sequence_length = max(len(seq) for seq in sequences)\n",
    "padded_sequences = pad_sequences(sequences, maxlen=sequence_length, padding='post')\n"
   ]
  },
  {
   "cell_type": "code",
   "execution_count": 143,
   "id": "557d9ecf",
   "metadata": {},
   "outputs": [],
   "source": [
    "# In training code, after you set sequence_length\n",
    "with open(\"sequence_length.txt\", \"w\") as f:\n",
    "    f.write(str(sequence_length))\n"
   ]
  },
  {
   "cell_type": "code",
   "execution_count": 144,
   "id": "5a40e3a6",
   "metadata": {},
   "outputs": [],
   "source": [
    "# 5. Train/validation/test split\n",
    "X_train, X_temp, y_train, y_temp = train_test_split(\n",
    "    padded_sequences, all_labels, test_size=0.3, random_state=42\n",
    ")\n",
    "X_val, X_test, y_val, y_test = train_test_split(\n",
    "    X_temp, y_temp, test_size=0.5, random_state=42\n",
    ")\n",
    "\n",
    "X_train = np.array(X_train, dtype=np.int32)\n",
    "X_val   = np.array(X_val, dtype=np.int32)\n",
    "X_test  = np.array(X_test, dtype=np.int32)\n",
    "\n",
    "y_train = np.array(y_train, dtype=np.float32)\n",
    "y_val   = np.array(y_val, dtype=np.float32)\n",
    "y_test  = np.array(y_test, dtype=np.float32)"
   ]
  },
  {
   "cell_type": "code",
   "execution_count": 145,
   "id": "4112f4f6",
   "metadata": {},
   "outputs": [],
   "source": [
    "# 6. Model\n",
    "model = keras.Sequential([\n",
    "    keras.layers.Embedding(input_dim=vocab_size, output_dim=128, input_length=sequence_length),\n",
    "    keras.layers.GlobalAveragePooling1D(),\n",
    "    keras.layers.Dense(64, activation='relu'),\n",
    "    keras.layers.Dense(1, activation='sigmoid')\n",
    "])\n",
    "\n",
    "model.compile(optimizer='adam', loss='binary_crossentropy', metrics=['accuracy'])\n"
   ]
  },
  {
   "cell_type": "code",
   "execution_count": 146,
   "id": "533b705d",
   "metadata": {},
   "outputs": [
    {
     "name": "stdout",
     "output_type": "stream",
     "text": [
      "Epoch 1/10\n",
      "\u001b[1m175/175\u001b[0m \u001b[32m━━━━━━━━━━━━━━━━━━━━\u001b[0m\u001b[37m\u001b[0m \u001b[1m21s\u001b[0m 103ms/step - accuracy: 0.4915 - loss: 0.6986 - val_accuracy: 0.4875 - val_loss: 0.6960\n",
      "Epoch 2/10\n",
      "\u001b[1m175/175\u001b[0m \u001b[32m━━━━━━━━━━━━━━━━━━━━\u001b[0m\u001b[37m\u001b[0m \u001b[1m17s\u001b[0m 83ms/step - accuracy: 0.4935 - loss: 0.6955 - val_accuracy: 0.5125 - val_loss: 0.6940\n",
      "Epoch 3/10\n",
      "\u001b[1m175/175\u001b[0m \u001b[32m━━━━━━━━━━━━━━━━━━━━\u001b[0m\u001b[37m\u001b[0m \u001b[1m25s\u001b[0m 106ms/step - accuracy: 0.4953 - loss: 0.6946 - val_accuracy: 0.4875 - val_loss: 0.6961\n",
      "Epoch 4/10\n",
      "\u001b[1m175/175\u001b[0m \u001b[32m━━━━━━━━━━━━━━━━━━━━\u001b[0m\u001b[37m\u001b[0m \u001b[1m16s\u001b[0m 77ms/step - accuracy: 0.5030 - loss: 0.6973 - val_accuracy: 0.4875 - val_loss: 0.6935\n",
      "Epoch 5/10\n",
      "\u001b[1m175/175\u001b[0m \u001b[32m━━━━━━━━━━━━━━━━━━━━\u001b[0m\u001b[37m\u001b[0m \u001b[1m24s\u001b[0m 95ms/step - accuracy: 0.5012 - loss: 0.6963 - val_accuracy: 0.5125 - val_loss: 0.6928\n",
      "Epoch 6/10\n",
      "\u001b[1m175/175\u001b[0m \u001b[32m━━━━━━━━━━━━━━━━━━━━\u001b[0m\u001b[37m\u001b[0m \u001b[1m21s\u001b[0m 95ms/step - accuracy: 0.5008 - loss: 0.6961 - val_accuracy: 0.4875 - val_loss: 0.6934\n",
      "Epoch 7/10\n",
      "\u001b[1m175/175\u001b[0m \u001b[32m━━━━━━━━━━━━━━━━━━━━\u001b[0m\u001b[37m\u001b[0m \u001b[1m21s\u001b[0m 96ms/step - accuracy: 0.5097 - loss: 0.6948 - val_accuracy: 0.5125 - val_loss: 0.6927\n",
      "Epoch 8/10\n",
      "\u001b[1m175/175\u001b[0m \u001b[32m━━━━━━━━━━━━━━━━━━━━\u001b[0m\u001b[37m\u001b[0m \u001b[1m16s\u001b[0m 65ms/step - accuracy: 0.5077 - loss: 0.6946 - val_accuracy: 0.4875 - val_loss: 0.6944\n",
      "Epoch 9/10\n",
      "\u001b[1m175/175\u001b[0m \u001b[32m━━━━━━━━━━━━━━━━━━━━\u001b[0m\u001b[37m\u001b[0m \u001b[1m24s\u001b[0m 84ms/step - accuracy: 0.4980 - loss: 0.6975 - val_accuracy: 0.5125 - val_loss: 0.6930\n",
      "Epoch 10/10\n",
      "\u001b[1m175/175\u001b[0m \u001b[32m━━━━━━━━━━━━━━━━━━━━\u001b[0m\u001b[37m\u001b[0m \u001b[1m19s\u001b[0m 70ms/step - accuracy: 0.5100 - loss: 0.6937 - val_accuracy: 0.4875 - val_loss: 0.7016\n",
      "\u001b[1m38/38\u001b[0m \u001b[32m━━━━━━━━━━━━━━━━━━━━\u001b[0m\u001b[37m\u001b[0m \u001b[1m1s\u001b[0m 16ms/step - accuracy: 0.5149 - loss: 0.6957\n",
      "Test Accuracy: 0.5025\n"
     ]
    }
   ],
   "source": [
    "# 7. Train\n",
    "history = model.fit(\n",
    "    X_train, y_train,\n",
    "    epochs=10,\n",
    "    batch_size=32,\n",
    "    validation_data=(X_val, y_val)\n",
    ")\n",
    "\n",
    "# 8. Evaluate\n",
    "loss, accuracy = model.evaluate(X_test, y_test)\n",
    "print(f\"Test Accuracy: {accuracy:.4f}\")\n",
    "\n"
   ]
  },
  {
   "cell_type": "code",
   "execution_count": 147,
   "id": "666aa7a4",
   "metadata": {},
   "outputs": [
    {
     "name": "stderr",
     "output_type": "stream",
     "text": [
      "WARNING:absl:You are saving your model as an HDF5 file via `model.save()` or `keras.saving.save_model(model)`. This file format is considered legacy. We recommend using instead the native Keras format, e.g. `model.save('my_model.keras')` or `keras.saving.save_model(model, 'my_model.keras')`. \n"
     ]
    }
   ],
   "source": [
    "\n",
    "\n",
    "# Save model\n",
    "model.save('sentiment_model.h5')\n",
    "\n",
    "# Inference function\n",
    "def predict_sentiment(text):\n",
    "    cleaned_text = clean_text(text)\n",
    "    sequence = tokenizer.texts_to_sequences([cleaned_text])\n",
    "    padded = pad_sequences(sequence, maxlen=sequence_length)\n",
    "    prediction = model.predict(padded)[0][0]\n",
    "    return 'Positive review' if prediction > 0.5 else 'Negative review'"
   ]
  },
  {
   "cell_type": "code",
   "execution_count": 150,
   "id": "159dd488",
   "metadata": {},
   "outputs": [
    {
     "name": "stdout",
     "output_type": "stream",
     "text": [
      "\u001b[1m1/1\u001b[0m \u001b[32m━━━━━━━━━━━━━━━━━━━━\u001b[0m\u001b[37m\u001b[0m \u001b[1m0s\u001b[0m 225ms/step\n"
     ]
    },
    {
     "data": {
      "text/plain": [
       "'Negative review'"
      ]
     },
     "execution_count": 150,
     "metadata": {},
     "output_type": "execute_result"
    }
   ],
   "source": [
    "predict_sentiment(\"I hated this product\")\n"
   ]
  }
 ],
 "metadata": {
  "kernelspec": {
   "display_name": "Python 3",
   "language": "python",
   "name": "python3"
  },
  "language_info": {
   "codemirror_mode": {
    "name": "ipython",
    "version": 3
   },
   "file_extension": ".py",
   "mimetype": "text/x-python",
   "name": "python",
   "nbconvert_exporter": "python",
   "pygments_lexer": "ipython3",
   "version": "3.12.6"
  }
 },
 "nbformat": 4,
 "nbformat_minor": 5
}
